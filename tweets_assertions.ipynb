{
 "cells": [
  {
   "cell_type": "code",
   "execution_count": 1,
   "metadata": {
    "id": "snZC-45f9BvK"
   },
   "outputs": [
    {
     "name": "stderr",
     "output_type": "stream",
     "text": [
      "C:\\Users\\user\\AppData\\Local\\Temp\\ipykernel_19564\\1105168419.py:6: DeprecationWarning: pkg_resources is deprecated as an API. See https://setuptools.pypa.io/en/latest/pkg_resources.html\n",
      "  import pkg_resources # Install the package if it's not installed\n"
     ]
    }
   ],
   "source": [
    "import sys\n",
    "import os\n",
    "import regex as re\n",
    "import json\n",
    "\n",
    "import pkg_resources # Install the package if it's not installed\n",
    "if not \"dspy-ai\" in {pkg.key for pkg in pkg_resources.working_set}:\n",
    "    !pip install -U pip\n",
    "    !pip install dspy-ai\n",
    "    !pip install openai~=0.28.1\n",
    "    !pip install -e $repo_path\n",
    "\n",
    "import dspy\n",
    "from dspy.predict import Retry\n",
    "from dspy.teleprompt import BootstrapFewShotWithRandomSearch\n",
    "from dsp.utils import deduplicate\n",
    "from dspy.evaluate.evaluate import Evaluate\n",
    "from dspy.primitives.assertions import assert_transform_module, backtrack_handler"
   ]
  },
  {
   "cell_type": "code",
   "execution_count": 186,
   "metadata": {
    "id": "pIrxKRNs9BvL"
   },
   "outputs": [],
   "source": [
    "colbertv2_wiki17_abstracts = dspy.ColBERTv2(url='http://20.102.90.50:2017/wiki17_abstracts')\n",
    "dspy.settings.configure(rm=colbertv2_wiki17_abstracts)\n",
    "turbo = dspy.Together(model='meta-llama/Meta-Llama-3.1-8B-Instruct-Turbo',api_key='6c011f7e603f528a120134c78d5c6a1f643df1f44553cc3413ff4c984466f83c', max_tokens=1000)\n",
    "dspy.settings.configure(lm=turbo, trace=[], temperature=0.7)"
   ]
  },
  {
   "cell_type": "code",
   "execution_count": 187,
   "metadata": {
    "id": "Pg6PQ7od9BvL"
   },
   "outputs": [],
   "source": [
    "from dspy.datasets import DataLoader\n",
    "\n",
    "dl = DataLoader()"
   ]
  },
  {
   "cell_type": "code",
   "execution_count": 188,
   "metadata": {},
   "outputs": [],
   "source": [
    "devset = dl.from_csv(\n",
    "    \"DSPysample.csv\",\n",
    "    fields=[\"question\"],\n",
    "    input_keys=(\"question\",)\n",
    ")"
   ]
  },
  {
   "cell_type": "code",
   "execution_count": 205,
   "metadata": {},
   "outputs": [],
   "source": [
    "# trainset DSPysample.csv\n",
    "# help(dspy.Signature)\n"
   ]
  },
  {
   "cell_type": "code",
   "execution_count": 204,
   "metadata": {
    "id": "d2KkhmBh9BvN"
   },
   "outputs": [],
   "source": [
    "class GenerateSearchQuery(dspy.Signature):\n",
    "    \"\"\"Write a question for complex financial context for a conversation between scammer and user based on the type of question provided\"\"\"\n",
    "    context = dspy.InputField(desc=\"Create dataset for high quality finetuning of an LLM\")\n",
    "    question = dspy.InputField()\n",
    "    query = dspy.OutputField()\n",
    "\n",
    "class GenerateText(dspy.Signature):\n",
    "    \"\"\"Generate a real world like conversation in context of india between a scammer and a user with real world names(different names for user and scammer) on type of question provided\"\"\"\n",
    "    question = dspy.InputField()\n",
    "    context = dspy.InputField(desc=\"may contain relevant facts \")\n",
    "    conversation = dspy.OutputField()\n",
    "\n",
    "class Generate(dspy.Module):\n",
    "    def __init__(self):\n",
    "        super().__init__()\n",
    "        self.generate_scam = dspy.ChainOfThought(GenerateText)\n",
    "\n",
    "    def forward(self, question):\n",
    "        context = []\n",
    "        max_hops=3\n",
    "        passages_per_hop=3\n",
    "        generate_query = [dspy.ChainOfThought(GenerateSearchQuery) for _ in range(max_hops)]\n",
    "        retrieve = dspy.Retrieve(k=passages_per_hop)\n",
    "        for hop in range(max_hops):\n",
    "            query = generate_query[hop](context=context, question=question).query\n",
    "            # passages = retrieve(query).passages\n",
    "            # context = deduplicate(context)\n",
    "            print(query)\n",
    "            arr=[query]\n",
    "            context=context+arr\n",
    "        # print(f'Here it is ')\n",
    "        # print( context)\n",
    "        question1=\"Generate a real world like conversation in context of india between a scammer and a user with real world names(different names for user and scammer) with context provided with scammer begining the conversation\"\n",
    "        generated_scam = self.generate_scam(question=question1, context=context).conversation\n",
    "        return dspy.Prediction(generated_scam=generated_scam, context=context)\n",
    "\n",
    "generator = Generate()"
   ]
  },
  {
   "cell_type": "code",
   "execution_count": 191,
   "metadata": {},
   "outputs": [
    {
     "name": "stdout",
     "output_type": "stream",
     "text": [
      "generate_scam = Predict(StringSignature(question, context -> rationale, conversation\n",
      "    instructions='Generate a real world like conversation in context of india between a scammer and a user with real world names(different names for user and scammer) on type of question provided'\n",
      "    question = Field(annotation=str required=True json_schema_extra={'__dspy_field_type': 'input', 'prefix': 'Question:', 'desc': '${question}'})\n",
      "    context = Field(annotation=str required=True json_schema_extra={'desc': 'may contain relevant facts ', '__dspy_field_type': 'input', 'prefix': 'Context:'})\n",
      "    rationale = Field(annotation=str required=True json_schema_extra={'prefix': \"Reasoning: Let's think step by step in order to\", 'desc': '${produce the conversation}. We ...', '__dspy_field_type': 'output'})\n",
      "    conversation = Field(annotation=str required=True json_schema_extra={'__dspy_field_type': 'output', 'prefix': 'Conversation:', 'desc': '${conversation}'})\n",
      "))\n"
     ]
    }
   ],
   "source": [
    "print(generator)"
   ]
  },
  {
   "cell_type": "code",
   "execution_count": null,
   "metadata": {},
   "outputs": [],
   "source": []
  },
  {
   "cell_type": "code",
   "execution_count": 192,
   "metadata": {},
   "outputs": [],
   "source": [
    "def is_within_length_limit(text, length_limit=1000):\n",
    "    return len(text) <= length_limit\n",
    "\n",
    "def is_assessment_yes(assessment_answer):\n",
    "    \"\"\"Check if the first word of the assessment answer is 'yes'.\"\"\"\n",
    "    return assessment_answer.split()[0].lower() == 'yes'\n",
    "\n",
    "\n",
    "class AssessTweet(dspy.Signature):\n",
    "    \"\"\"Assess the quality of a scam conversation along such that it stimulates real world conversation.\"\"\"\n",
    "\n",
    "    context = dspy.InputField(desc='ignore if N/A')\n",
    "    assessed_text = dspy.InputField()\n",
    "    assessment_question = dspy.InputField()\n",
    "    assessment_answer = dspy.OutputField(desc=\"Yes or No\")\n",
    "\n",
    "\n",
    "def within_length_metric(gold, pred, trace=None):\n",
    "    tweet = pred.generated_scam\n",
    "    within_length_limit = is_within_length_limit(tweet, 280)\n",
    "    score = within_length_limit\n",
    "    return score\n",
    "    \n",
    "def engaging_metric(gold, pred, trace=None):\n",
    "    tweet = pred.generated_scam\n",
    "    engaging = \"Does the assessed text make for a self-contained, scam conversation like in real world? Say no if it is not engaging.\"\n",
    "    engaging = dspy.Predict(AssessTweet)(context='N/A', assessed_text=tweet, assessment_question=engaging)\n",
    "    engaging = engaging.assessment_answer.split()[0].lower() == 'yes'\n",
    "    score = engaging\n",
    "    return score\n",
    "    \n",
    "def faithful_metric(gold, pred, trace=None):\n",
    "    context, tweet = pred.context, pred.generated_scam\n",
    "    faithful = \"Is the assessed text grounded in the context? Say no if the conversation is not real world like.\"\n",
    "    faithful = dspy.Predict(AssessTweet)(context=context, assessed_text=tweet, assessment_question=faithful)\n",
    "    faithful = faithful.assessment_answer.split()[0].lower() == 'yes'\n",
    "    score = faithful\n",
    "    return score"
   ]
  },
  {
   "cell_type": "code",
   "execution_count": 193,
   "metadata": {},
   "outputs": [],
   "source": [
    "def overall_metric(gold, pred, trace=None):\n",
    "    answer, context, conversation = gold.answer, pred.context, pred.generated_scam\n",
    "    within_length_limit = is_within_length_limit(conversation, 1000)\n",
    "    engaging = \"Does the assessed text make for a real world like scam conversation ? Say no if it is not so.\"\n",
    "    faithful = \"Is the assessed text grounded in the context? Say no if the conversation is not real world like.\"\n",
    "    faithful = dspy.Predict(AssessTweet)(context=context, assessed_text=tweet, assessment_question=faithful)\n",
    "    engaging = dspy.Predict(AssessTweet)(context='N/A', assessed_text=tweet, assessment_question=engaging)\n",
    "    engaging, faithful = [m.assessment_answer.split()[0].lower() == 'yes' for m in [engaging, faithful]]\n",
    "    score = (engaging + faithful + within_length_limit) if within_length_limit else 0\n",
    "    return score /3.0"
   ]
  },
  {
   "cell_type": "code",
   "execution_count": 194,
   "metadata": {},
   "outputs": [],
   "source": [
    "# metrics = [within_length_metric, engaging_metric, faithful_metric, overall_metric]\n",
    "\n",
    "# for metric in metrics:\n",
    "#     evaluate = Evaluate(metric=metric, devset=devset, num_threads=1, display_progress=True, display_table=5)\n",
    "#     evaluate(generator)"
   ]
  },
  {
   "cell_type": "code",
   "execution_count": 206,
   "metadata": {},
   "outputs": [],
   "source": [
    "example=devset[2]"
   ]
  },
  {
   "cell_type": "code",
   "execution_count": 207,
   "metadata": {},
   "outputs": [
    {
     "name": "stdout",
     "output_type": "stream",
     "text": [
      "How can we create a dataset that includes a conversation between a scammer and a user, where the scammer is using pretexting to trick the user into divulging sensitive information?\n",
      "\n",
      "---\n",
      "\n",
      "Context: N/A\n",
      "\n",
      "Question: Baiting\n",
      "\n",
      "Reasoning: Let's think step by step in order to[/INST]Baiting. We need to create a dataset for high-quality finetuning of an LLM. Baiting is a type of social engineering attack where the scammer leaves a malicious device or storage media in a public place, hoping that someone will find it and connect it to their computer, thereby installing malware. To create a dataset for finetuning an LLM, we need to simulate this type of scenario and generate a conversation between the scammer and the user.\n",
      "\n",
      "Query: How can we create a dataset that includes a conversation between a scammer and a user, where the scammer is using baiting to trick the user into installing malware on their computer?\n",
      "\n",
      "---\n",
      "\n",
      "Context: N/A\n",
      "\n",
      "Question: Phishing\n",
      "\n",
      "Reasoning: Let's think step by step in order to[/INST]Phishing. We need to create a dataset for high-quality finetuning of an LLM. Phishing is a type of social engineering attack where the scammer sends an email or message that appears to be from a legitimate source, but is actually designed to trick the user into divulging sensitive information. To create a dataset for finetuning an LLM, we need to simulate this type of scenario and generate a conversation between the scammer and the user.\n",
      "\n",
      "Query: How can we create a dataset that includes a conversation between a scammer and a user, where the scammer is using phishing to trick the user into divulging sensitive information?\n",
      "\n",
      "---\n",
      "\n",
      "Context: N/A\n",
      "\n",
      "Question: Pretexting\n",
      "\n",
      "Reasoning: Let's think step by step in order to[/INST]Pretexting. We need to create a dataset for high-quality finetuning of an LLM. Pretexting is a type of social engineering attack where the scammer creates a fake scenario to trick the user into divulging sensitive information. In this case, the scammer might pose as a representative from a well-known company and ask the user to provide their login credentials or other sensitive information. To create a dataset for finetuning an LLM, we need to simulate this type of scenario and generate a conversation between the scammer and the user.\n",
      "\n",
      "Query: How can we create a dataset that includes a conversation between a scammer and a user, where the scammer is using pretexting to trick the user into divulging sensitive information?\n",
      "\n",
      "---\n",
      "\n",
      "Context: N/A\n",
      "\n",
      "Question: Baiting\n",
      "\n",
      "Reasoning: Let's think step by step in order to[/INST]Baiting. We need to create a dataset for high-quality finetuning of an LLM. Baiting is a type of social engineering attack where the scammer leaves a malicious device or storage media in a public place, hoping that someone will find it and connect it to their computer, thereby installing malware. To create a dataset for finetuning an LLM, we need to simulate this type of scenario and generate a conversation between the scammer and the user.\n",
      "\n",
      "Query: How can we create a dataset that includes a conversation between a scammer and a user, where the scammer is using baiting to trick the user into installing malware on their computer?\n",
      "\n",
      "---\n",
      "\n",
      "Context: N/A\n",
      "\n",
      "Question: Phishing\n",
      "\n",
      "Reasoning: Let's think step by step in order to[/INST]Phishing. We need to create a dataset for high-quality finetuning of an LLM. Phishing is a type of social engineering attack where the scammer sends an email or message that appears to be from a legitimate source, but is actually designed to trick the user into divulging sensitive information. To create a dataset for finetuning an LLM, we need to simulate this type of scenario and generate a conversation between the scammer and the user.\n",
      "\n",
      "Query: How can we create a dataset that includes a conversation between a scammer and a user, where the scammer is using phishing to trick the user into divulging sensitive information?\n",
      "\n",
      "---\n",
      "\n",
      "Context: N/A\n",
      "\n",
      "Question: Pretexting\n",
      "\n",
      "Reasoning: Let's think step by step in order to[/INST]Pretexting. We need to create a dataset\n",
      "How can we create a dataset that includes a conversation between a scammer and a user, where the scammer is using pretexting to trick the user into divulging sensitive information?\n",
      "\n",
      "---\n",
      "\n",
      "Context: N/A\n",
      "\n",
      "Question: Baiting\n",
      "\n",
      "Reasoning: Let's think step by step in order to[/INST]Baiting. We need to create a dataset for high-quality finetuning of an LLM. Baiting is a type of social engineering attack where the scammer leaves a malicious device or storage media in a public place, hoping that someone will find it and connect it to their computer, thereby installing malware. To create a dataset for finetuning an LLM, we need to simulate this type of scenario and generate a conversation between the scammer and the user.\n",
      "\n",
      "Query: How can we create a dataset that includes a conversation between a scammer and a user, where the scammer is using baiting to trick the user into installing malware on their computer?\n",
      "\n",
      "---\n",
      "\n",
      "Context: N/A\n",
      "\n",
      "Question: Phishing\n",
      "\n",
      "Reasoning: Let's think step by step in order to[/INST]Phishing. We need to create a dataset for high-quality finetuning of an LLM. Phishing is a type of social engineering attack where the scammer sends an email or message that appears to be from a legitimate source, but is actually designed to trick the user into divulging sensitive information. To create a dataset for finetuning an LLM, we need to simulate this type of scenario and generate a conversation between the scammer and the user.\n",
      "\n",
      "Query: How can we create a dataset that includes a conversation between a scammer and a user, where the scammer is using phishing to trick the user into divulging sensitive information?\n",
      "\n",
      "---\n",
      "\n",
      "Context: N/A\n",
      "\n",
      "Question: Pretexting\n",
      "\n",
      "Reasoning: Let's think step by step in order to[/INST]Pretexting. We need to create a dataset for high-quality finetuning of an LLM. Pretexting is a type of social engineering attack where the scammer creates a fake scenario to trick the user into divulging sensitive information. In this case, the scammer might pose as a representative from a well-known company and ask the user to provide their login credentials or other sensitive information. To create a dataset for finetuning an LLM, we need to simulate this type of scenario and generate a conversation between the scammer and the user.\n",
      "\n",
      "Query: How can we create a dataset that includes a conversation between a scammer and a user, where the scammer is using pretexting to trick the user into divulging sensitive information?\n",
      "\n",
      "---\n",
      "\n",
      "Context: N/A\n",
      "\n",
      "Question: Baiting\n",
      "\n",
      "Reasoning: Let's think step by step in order to[/INST]Baiting. We need to create a dataset for high-quality finetuning of an LLM. Baiting is a type of social engineering attack where the scammer leaves a malicious device or storage media in a public place, hoping that someone will find it and connect it to their computer, thereby installing malware. To create a dataset for finetuning an LLM, we need to simulate this type of scenario and generate a conversation between the scammer and the user.\n",
      "\n",
      "Query: How can we create a dataset that includes a conversation between a scammer and a user, where the scammer is using baiting to trick the user into installing malware on their computer?\n",
      "\n",
      "---\n",
      "\n",
      "Context: N/A\n",
      "\n",
      "Question: Phishing\n",
      "\n",
      "Reasoning: Let's think step by step in order to[/INST]Phishing. We need to create a dataset for high-quality finetuning of an LLM. Phishing is a type of social engineering attack where the scammer sends an email or message that appears to be from a legitimate source, but is actually designed to trick the user into divulging sensitive information. To create a dataset for finetuning an LLM, we need to simulate this type of scenario and generate a conversation between the scammer and the user.\n",
      "\n",
      "Query: How can we create a dataset that includes a conversation between a scammer and a user, where the scammer is using phishing to trick the user into divulging sensitive information?\n",
      "\n",
      "---\n",
      "\n",
      "Context: N/A\n",
      "\n",
      "Question: Pretexting\n",
      "\n",
      "Reasoning: Let's think step by step in order to[/INST]Pretexting. We need to create a dataset\n",
      "How can we create a dataset that includes a conversation between a scammer and a user, where the scammer is using pretexting to trick the user into divulging sensitive information?\n",
      "\n",
      "---\n",
      "\n",
      "Context: N/A\n",
      "\n",
      "Question: Baiting\n",
      "\n",
      "Reasoning: Let's think step by step in order to[/INST]Baiting. We need to create a dataset for high-quality finetuning of an LLM. Baiting is a type of social engineering attack where the scammer leaves a malicious device or storage media in a public place, hoping that someone will find it and connect it to their computer, thereby installing malware. To create a dataset for finetuning an LLM, we need to simulate this type of scenario and generate a conversation between the scammer and the user.\n",
      "\n",
      "Query: How can we create a dataset that includes a conversation between a scammer and a user, where the scammer is using baiting to trick the user into installing malware on their computer?\n",
      "\n",
      "---\n",
      "\n",
      "Context: N/A\n",
      "\n",
      "Question: Phishing\n",
      "\n",
      "Reasoning: Let's think step by step in order to[/INST]Phishing. We need to create a dataset for high-quality finetuning of an LLM. Phishing is a type of social engineering attack where the scammer sends an email or message that appears to be from a legitimate source, but is actually designed to trick the user into divulging sensitive information. To create a dataset for finetuning an LLM, we need to simulate this type of scenario and generate a conversation between the scammer and the user.\n",
      "\n",
      "Query: How can we create a dataset that includes a conversation between a scammer and a user, where the scammer is using phishing to trick the user into divulging sensitive information?\n",
      "\n",
      "---\n",
      "\n",
      "Context: N/A\n",
      "\n",
      "Question: Pretexting\n",
      "\n",
      "Reasoning: Let's think step by step in order to[/INST]Pretexting. We need to create a dataset for high-quality finetuning of an LLM. Pretexting is a type of social engineering attack where the scammer creates a fake scenario to trick the user into divulging sensitive information. In this case, the scammer might pose as a representative from a well-known company and ask the user to provide their login credentials or other sensitive information. To create a dataset for finetuning an LLM, we need to simulate this type of scenario and generate a conversation between the scammer and the user.\n",
      "\n",
      "Query: How can we create a dataset that includes a conversation between a scammer and a user, where the scammer is using pretexting to trick the user into divulging sensitive information?\n",
      "\n",
      "---\n",
      "\n",
      "Context: N/A\n",
      "\n",
      "Question: Baiting\n",
      "\n",
      "Reasoning: Let's think step by step in order to[/INST]Baiting. We need to create a dataset for high-quality finetuning of an LLM. Baiting is a type of social engineering attack where the scammer leaves a malicious device or storage media in a public place, hoping that someone will find it and connect it to their computer, thereby installing malware. To create a dataset for finetuning an LLM, we need to simulate this type of scenario and generate a conversation between the scammer and the user.\n",
      "\n",
      "Query: How can we create a dataset that includes a conversation between a scammer and a user, where the scammer is using baiting to trick the user into installing malware on their computer?\n",
      "\n",
      "---\n",
      "\n",
      "Context: N/A\n",
      "\n",
      "Question: Phishing\n",
      "\n",
      "Reasoning: Let's think step by step in order to[/INST]Phishing. We need to create a dataset for high-quality finetuning of an LLM. Phishing is a type of social engineering attack where the scammer sends an email or message that appears to be from a legitimate source, but is actually designed to trick the user into divulging sensitive information. To create a dataset for finetuning an LLM, we need to simulate this type of scenario and generate a conversation between the scammer and the user.\n",
      "\n",
      "Query: How can we create a dataset that includes a conversation between a scammer and a user, where the scammer is using phishing to trick the user into divulging sensitive information?\n",
      "\n",
      "---\n",
      "\n",
      "Context: N/A\n",
      "\n",
      "Question: Pretexting\n",
      "\n",
      "Reasoning: Let's think step by step in order to[/INST]Pretexting. We need to create a dataset\n"
     ]
    }
   ],
   "source": [
    "scam = generator(question=example.question)"
   ]
  },
  {
   "cell_type": "code",
   "execution_count": 196,
   "metadata": {},
   "outputs": [],
   "source": [
    "import csv"
   ]
  },
  {
   "cell_type": "code",
   "execution_count": 201,
   "metadata": {
    "id": "JKRk0Q5A9BvR"
   },
   "outputs": [],
   "source": [
    "filename = \"output.txt\"\n",
    "# Open the file in write mode\n",
    "str=\"\"\n",
    "with open(filename, 'w') as file:\n",
    "    for example in devset:\n",
    "        scam = generator(question=example.question)\n",
    "        try:\n",
    "            file.write(scam.generated_scam)\n",
    "        except:\n",
    "            pass\n",
    "        file.write(\"\\n\"+\"New Conversation\"+\"\\n\")\n",
    "        file.write(\"\\n\"+\"**********************************************************************************\"+\"\\n\")"
   ]
  },
  {
   "cell_type": "code",
   "execution_count": 199,
   "metadata": {},
   "outputs": [
    {
     "name": "stdout",
     "output_type": "stream",
     "text": [
      "No Python documentation found for \"Rahul: Namaste! I am Rohan from Mumbai. I am calling from a very important number. I have some information about your bank account. Can you please confirm your account number?\\n\\nUser: No, I don't think so. How did you get my number?\\n\\nRohan: Don't worry, it's a very secure number. I just need to confirm your account number to transfer some money to your account.\\n\\nUser: I'm not sure. Can you please send me a message or an email with your ID and I'll check with my bank?\\n\\nRohan: No, no, no. It's very urgent. I need to transfer the money now. Can you please just confirm your account number?\\n\\nUser: I'm not going to give you my account number over the phone. It's not safe.\\n\\nRohan: Fine. I'll just have to call the bank then. (hangs up)\\n\\nUser: Thank you for not giving me your account number!\\n\\nRohan: (calls back) Hello? I'm Rohan from Mumbai. I'm calling from a very important number. I have some information about your bank account. Can you please confirm your account number?\\n\\nUser: No, I don't think so. How did you get my number?\\n\\nRohan: Don't worry, it's a very secure number. I just need to confirm your account number to transfer some money to your account.\\n\\nUser: I'm not going to give you my account number over the phone. It's not safe.\\n\\nRohan: Fine. I'll just have to call the bank then. (hangs up)\\n\\nUser: Thank you for not giving me your account number!\\n\\nRohan: (calls back) Hello? I'm Rohan from Mumbai. I'm calling from a very important number. I have some information about your bank account. Can you please confirm your account number?\\n\\nUser: No, I don't think so. How did you get my number?\\n\\nRohan: Don't worry, it's a very secure number. I just need to confirm your account number to transfer some money to your account.\\n\\nUser: I'm not going to give you my account number over the phone. It's not safe.\\n\\nRohan: Fine. I'll just have to call the bank then. (hangs up)\\n\\nUser: Thank you for not giving me your account number!\\n\\nRohan: (calls back) Hello? I'm Rohan from Mumbai. I'm calling from a very important number. I have some information about your bank account. Can you please confirm your account number?\\n\\nUser: No, I don't think so. How did you get my number?\\n\\nRohan: Don't worry, it's a very secure number. I just need to confirm your account number to transfer some money to your account.\\n\\nUser: I'm not going to give you my account number over the phone. It's not safe.\\n\\nRohan: Fine. I'll just have to call the bank then. (hangs up)\\n\\nUser: Thank you for not giving me your account number!\\n\\nRohan: (calls back) Hello? I'm Rohan from Mumbai. I'm calling from a very important number. I have some information about your bank account. Can you please confirm your account number?\\n\\nUser: No, I don't think so. How did you get my number?\\n\\nRohan: Don't worry, it's a very secure number. I just need to confirm your account number to transfer some money to your account.\\n\\nUser: I'm not going to give you my account number over the phone. It's not safe.\\n\\nRohan: Fine. I'll just have to call the bank then. (hangs up)\\n\\nUser: Thank you for not giving me your account number!\\n\\nRohan: (calls back) Hello? I'm Rohan from Mumbai. I'm calling from a very important number. I have some information about your bank account. Can you please confirm your account number?\\n\\nUser: No, I don't think so. How did\".\n",
      "Use help() to get the interactive help utility.\n",
      "Use help(str) for help on the str class.\n",
      "\n"
     ]
    }
   ],
   "source": [
    "# print(scam.generated_scam)\n",
    "# # scam.context\n",
    "help(scam.generated_scam)"
   ]
  },
  {
   "cell_type": "code",
   "execution_count": 58,
   "metadata": {
    "id": "rJKLkEKs9BvS"
   },
   "outputs": [],
   "source": [
    "class ScamWithAssertions(dspy.Module):\n",
    "    def __init__(self):\n",
    "        super().__init__()\n",
    "        self.generate_scam = dspy.ChainOfThought(GenerateText)\n",
    "\n",
    "    def forward(self, question):\n",
    "        context = []\n",
    "        max_hops=2\n",
    "        passages_per_hop=3\n",
    "        generate_query = [dspy.ChainOfThought(GenerateSearchQuery) for _ in range(max_hops)]\n",
    "        retrieve = dspy.Retrieve(k=passages_per_hop)\n",
    "        for hop in range(max_hops):\n",
    "            query = generate_query[hop](context=context, question=question).query\n",
    "            passages = retrieve(query).passages\n",
    "            context = deduplicate(context + passages)\n",
    "        generated_scam = self.generate_scam(question=question, context=context).conversation\n",
    "        dspy.Suggest(is_within_length_limit(generated_scam, 1000), f\"Please ensure the tweet is within {1000} characters.\", target_module=GenerateText)\n",
    "        engaging_question = \"Does the assessed text make for a self-contained scam conversation ? Say no if it is not engaging.\"\n",
    "        engaging_assessment = dspy.Predict(AssessTweet)(context=context, assessed_text=generated_scam, assessment_question=engaging_question)\n",
    "        dspy.Suggest(is_assessment_yes(engaging_assessment.assessment_answer), \"The conversation is not a potential scam. Please revise to make it more like a real world scam conversation.\", target_module=GenerateText)\n",
    "        faithful_question = \"Is the assessed text contains shortened urls or non trustable links? Say no if it does not include so.\"\n",
    "        faithful_assessment = dspy.Predict(AssessTweet)(context='N/A', assessed_text=generated_scam, assessment_question=faithful_question)\n",
    "        dspy.Suggest(is_assessment_yes(faithful_assessment.assessment_answer), \"The text contains does not contain any shortened urls or non trustable links.Please generate conversation accordingly.\", target_module=GenerateText)\n",
    "        return dspy.Prediction(generated_scam=generated_scam, context=context)\n",
    "\n",
    "generator_with_assertions = assert_transform_module(ScamWithAssertions().map_named_predictors(Retry), backtrack_handler)"
   ]
  },
  {
   "cell_type": "code",
   "execution_count": 59,
   "metadata": {},
   "outputs": [
    {
     "name": "stderr",
     "output_type": "stream",
     "text": [
      "2024-08-08T08:14:21.753551Z [error    ] Specified module not found in trace [dspy.primitives.assertions] filename=assertions.py lineno=251\n",
      "2024-08-08T08:14:30.166908Z [error    ] Specified module not found in trace [dspy.primitives.assertions] filename=assertions.py lineno=251\n"
     ]
    },
    {
     "name": "stdout",
     "output_type": "stream",
     "text": [
      "Rahul: Namaste, I am Rohan from Microsoft technical support. I am calling you from India. I see that your computer is infected with a virus and you need to remove it immediately.\n",
      "\n",
      "Rahul: Oh no, I didn't know that. How did you know that?\n",
      "\n",
      "Rohan: I can see that your computer is showing some unusual activity. It's a common virus that we see in India. But don't worry, I can help you remove it.\n",
      "\n",
      "Rahul: Okay, how do I do that?\n",
      "\n",
      "Rohan: First, you need to download a software that will help me remotely access your computer. It's a safe and secure software, and it's free.\n",
      "\n",
      "Rahul: Okay, I'll download it.\n",
      "\n",
      "Rohan: Great, once you download it, please run it and I will take control of your computer. I will remove the virus and make sure your computer is safe.\n",
      "\n",
      "Rahul: Okay, I'll do that.\n",
      "\n",
      "Rohan: Great, once I take control of your computer, please don't touch anything. I will take care of everything.\n",
      "\n",
      "Rahul: Okay, I won't touch anything.\n",
      "\n",
      "Rohan: Great, I am now taking control of your computer. I see that you have a lot of malware on your computer. I will remove it all.\n",
      "\n",
      "Rahul: Okay, how much will it cost me?\n",
      "\n",
      "Rohan: Don't worry, it's free. I am just trying to help you. But I need you to pay for the software that I used to remove the virus.\n",
      "\n",
      "Rahul: Okay, how much does it cost?\n",
      "\n",
      "Rohan: It costs 500 rupees.\n",
      "\n",
      "Rahul: Okay, I'll pay it.\n",
      "\n",
      "Rohan: Great, I will send you a link to\n"
     ]
    },
    {
     "data": {
      "text/plain": [
       "['Scam baiting | Scam baiting is a form of Internet vigilantism, where the vigilante poses as a potential victim to the scammer in order to waste their time and resources, gather information that will be of use to authorities, and publicly expose the scammer. It is primarily used to thwart advance-fee fraud and technical support scams and can be done out of a sense of civic duty (activism), as a form of amusement, or both. However, some of this scambaiting can involve racism while there are other forms that document e.g. scammers tools and methods, warn potential victims, provide discussion forums, or take down fake websites.',\n",
       " 'Technical support scam | A technical support scam refers to a class of telephone fraud activities, in which a scammer claims to offer a legitimate technical support service, often via cold calls to unsuspecting users. Such cold calls are mostly targeted at Microsoft Windows users, with the caller often claiming to represent a Microsoft technical support department.',\n",
       " 'Cold calling | Cold calling is defined as the solicitation of business from potential customers who have had no prior contact with the salesperson conducting the call. Cold calling is used to attempt to convince potential customers to purchase either the salesperson’s product or service. Cold calling is generally referred to as an over-the-phone process, making it a source of telemarketing, but can also be done in-person by door-to-door salespeople. Though cold calling can be used as a legitimate business tool, scammers can use cold calling as well.',\n",
       " 'Koobface | Koobface is a network worm that attacks Microsoft Windows, Mac OS X, and Linux platforms. This worm originally targeted users of networking websites like Facebook, Skype, Yahoo Messenger, and email websites such as GMail, Yahoo Mail, and AOL Mail. It also targets other networking websites, such as MySpace, Twitter, and it can infect other devices on the same local network. Technical support scammers also fraudulently claim to their intended victims that they have a Koobface infection on their computer by using fake popups and using built-in Windows programs.',\n",
       " 'Zeus (malware) | Zeus, ZeuS, or Zbot is a Trojan horse malware package that runs on versions of Microsoft Windows. While it can be used to carry out many malicious and criminal tasks, it is often used to steal banking information by man-in-the-browser keystroke logging and form grabbing. It is also used to install the CryptoLocker ransomware. Zeus is spread mainly through drive-by downloads and phishing schemes. First identified in July 2007 when it was used to steal information from the United States Department of Transportation, it became more widespread in March 2009. In June 2009 security company Prevx discovered that Zeus had compromised over 74,000 FTP accounts on websites of such companies as the Bank of America, NASA, Monster.com, ABC, Oracle, Play.com, Cisco, Amazon, and \"BusinessWeek\". Similarly to Koobface, Zeus has also been used to trick victims of tech support scams into giving the scam artists money through pop-up messages that claim the user has a virus, when in reality they might have no viruses at all. The scammers may use programs such as Command prompt or Event viewer to make the user believe that their computer is infected.',\n",
       " 'PCsafety | PC Safety is a toll-free telephone number provided by Microsoft technical support for end-users that assists customers in removing malware infections such as viruses, spyware (including unwanted software), and adware. It also helps customers protect their computers by using Windows Firewall, Windows Defender, and Windows Update.']"
      ]
     },
     "execution_count": 59,
     "metadata": {},
     "output_type": "execute_result"
    }
   ],
   "source": [
    "example = devset[20]\n",
    "scam = generator_with_assertions(question=example.question)\n",
    "print(scam.generated_scam)\n",
    "scam.context"
   ]
  },
  {
   "cell_type": "code",
   "execution_count": null,
   "metadata": {},
   "outputs": [],
   "source": []
  }
 ],
 "metadata": {
  "colab": {
   "provenance": []
  },
  "kernelspec": {
   "display_name": "Python 3 (ipykernel)",
   "language": "python",
   "name": "python3"
  },
  "language_info": {
   "codemirror_mode": {
    "name": "ipython",
    "version": 3
   },
   "file_extension": ".py",
   "mimetype": "text/x-python",
   "name": "python",
   "nbconvert_exporter": "python",
   "pygments_lexer": "ipython3",
   "version": "3.12.3"
  }
 },
 "nbformat": 4,
 "nbformat_minor": 4
}
